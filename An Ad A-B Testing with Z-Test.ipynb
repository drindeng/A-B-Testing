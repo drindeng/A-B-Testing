{
 "cells": [
  {
   "cell_type": "markdown",
   "id": "dec88404",
   "metadata": {},
   "source": [
    "__Introduction__\n",
    "\n",
    "The objective of this project is to examine the effects of user engagement after seeing Ad A or Ad B\n",
    "\n",
    " \n",
    "\n",
    "__Problem__\n",
    "\n",
    "An advertising company has developed a new ad to have users engage with their questionnaire. The company has shown the new ad to some users and a dummy ad to others and wants their data analyst team to interpret the results. Does the new ad generate more responses to their questionnaire? Is it statistically significant? Is the company justified in using the new ad? \n",
    "\n",
    "\n",
    "__Data__\n",
    "\n",
    "Dataset is found on kaggle from an advertising company. https://www.kaggle.com/osuolaleemmanuel/ad-ab-testing\n",
    "\n",
    "\n",
    "__Columns Description__\n",
    "\n",
    "auction_id: the unique id of the online user who has been presented the BIO. In standard terminologies this is called an impression id. The user may see the BIO questionnaire but choose not to respond. In that case both the yes and no columns are zero.\n",
    "\n",
    "experiment: which group the user belongs to - control or exposed.\n",
    "\n",
    "control: users who have been shown a dummy ad\n",
    "\n",
    "exposed: users who have been shown a creative, an online interactive ad, with the SmartAd brand.\n",
    "\n",
    "date: the date in YYYY-MM-DD format\n",
    "\n",
    "hour: the hour of the day in HH format.\n",
    "\n",
    "device_make: the name of the type of device the user has e.g. Samsung\n",
    "\n",
    "platform_os: the id of the OS the user has.\n",
    "\n",
    "browser: the name of the browser the user uses to see the BIO questionnaire.\n",
    "\n",
    "yes: 1 if the user chooses the “Yes” radio button for the BIO questionnaire.\n",
    "\n",
    "no: 1 if the user chooses the “No” radio button for the BIO questionnaire.\n",
    "\n",
    "\n",
    "\n",
    "\n",
    "__Experiment Approach__\n",
    "\n",
    "__Null Hypothesis Hₒ:__ p = pₒ \"There is no significant difference between the ad success rate of both groups\"\n",
    "\n",
    "__Alternative Hypothesis Hₐ:__ p ≠ pₒ \"There is significant difference between the ad success rate of both groups\"\n",
    "\n",
    "__Confidence Level:__ 95% (α=0.05)\n",
    "\n",
    "_*we will perform a two-tailed test_"
   ]
  },
  {
   "cell_type": "code",
   "execution_count": null,
   "id": "00f22815",
   "metadata": {},
   "outputs": [],
   "source": []
  },
  {
   "cell_type": "markdown",
   "id": "29f796ee",
   "metadata": {},
   "source": [
    "__Package & Data Imports__"
   ]
  },
  {
   "cell_type": "code",
   "execution_count": 1,
   "id": "33dd5129",
   "metadata": {},
   "outputs": [],
   "source": [
    "import matplotlib.pyplot as plt\n",
    "import numpy as np\n",
    "import pandas as pd\n",
    "from scipy.stats import binom\n",
    "from scipy.stats import norm\n",
    "import seaborn as sns"
   ]
  },
  {
   "cell_type": "code",
   "execution_count": 2,
   "id": "871b1e71",
   "metadata": {
    "scrolled": true
   },
   "outputs": [
    {
     "data": {
      "text/html": [
       "<div>\n",
       "<style scoped>\n",
       "    .dataframe tbody tr th:only-of-type {\n",
       "        vertical-align: middle;\n",
       "    }\n",
       "\n",
       "    .dataframe tbody tr th {\n",
       "        vertical-align: top;\n",
       "    }\n",
       "\n",
       "    .dataframe thead th {\n",
       "        text-align: right;\n",
       "    }\n",
       "</style>\n",
       "<table border=\"1\" class=\"dataframe\">\n",
       "  <thead>\n",
       "    <tr style=\"text-align: right;\">\n",
       "      <th></th>\n",
       "      <th>auction_id</th>\n",
       "      <th>experiment</th>\n",
       "      <th>date</th>\n",
       "      <th>hour</th>\n",
       "      <th>device_make</th>\n",
       "      <th>platform_os</th>\n",
       "      <th>browser</th>\n",
       "      <th>yes</th>\n",
       "      <th>no</th>\n",
       "    </tr>\n",
       "  </thead>\n",
       "  <tbody>\n",
       "    <tr>\n",
       "      <th>0</th>\n",
       "      <td>0008ef63-77a7-448b-bd1e-075f42c55e39</td>\n",
       "      <td>exposed</td>\n",
       "      <td>2020-07-10</td>\n",
       "      <td>8</td>\n",
       "      <td>Generic Smartphone</td>\n",
       "      <td>6</td>\n",
       "      <td>Chrome Mobile</td>\n",
       "      <td>0</td>\n",
       "      <td>0</td>\n",
       "    </tr>\n",
       "    <tr>\n",
       "      <th>1</th>\n",
       "      <td>000eabc5-17ce-4137-8efe-44734d914446</td>\n",
       "      <td>exposed</td>\n",
       "      <td>2020-07-07</td>\n",
       "      <td>10</td>\n",
       "      <td>Generic Smartphone</td>\n",
       "      <td>6</td>\n",
       "      <td>Chrome Mobile</td>\n",
       "      <td>0</td>\n",
       "      <td>0</td>\n",
       "    </tr>\n",
       "    <tr>\n",
       "      <th>2</th>\n",
       "      <td>0016d14a-ae18-4a02-a204-6ba53b52f2ed</td>\n",
       "      <td>exposed</td>\n",
       "      <td>2020-07-05</td>\n",
       "      <td>2</td>\n",
       "      <td>E5823</td>\n",
       "      <td>6</td>\n",
       "      <td>Chrome Mobile WebView</td>\n",
       "      <td>0</td>\n",
       "      <td>1</td>\n",
       "    </tr>\n",
       "    <tr>\n",
       "      <th>3</th>\n",
       "      <td>00187412-2932-4542-a8ef-3633901c98d9</td>\n",
       "      <td>control</td>\n",
       "      <td>2020-07-03</td>\n",
       "      <td>15</td>\n",
       "      <td>Samsung SM-A705FN</td>\n",
       "      <td>6</td>\n",
       "      <td>Facebook</td>\n",
       "      <td>0</td>\n",
       "      <td>0</td>\n",
       "    </tr>\n",
       "    <tr>\n",
       "      <th>4</th>\n",
       "      <td>001a7785-d3fe-4e11-a344-c8735acacc2c</td>\n",
       "      <td>control</td>\n",
       "      <td>2020-07-03</td>\n",
       "      <td>15</td>\n",
       "      <td>Generic Smartphone</td>\n",
       "      <td>6</td>\n",
       "      <td>Chrome Mobile</td>\n",
       "      <td>0</td>\n",
       "      <td>0</td>\n",
       "    </tr>\n",
       "    <tr>\n",
       "      <th>...</th>\n",
       "      <td>...</td>\n",
       "      <td>...</td>\n",
       "      <td>...</td>\n",
       "      <td>...</td>\n",
       "      <td>...</td>\n",
       "      <td>...</td>\n",
       "      <td>...</td>\n",
       "      <td>...</td>\n",
       "      <td>...</td>\n",
       "    </tr>\n",
       "    <tr>\n",
       "      <th>8072</th>\n",
       "      <td>ffea24ec-cec1-43fb-b1d1-8f93828c2be2</td>\n",
       "      <td>exposed</td>\n",
       "      <td>2020-07-05</td>\n",
       "      <td>7</td>\n",
       "      <td>Generic Smartphone</td>\n",
       "      <td>6</td>\n",
       "      <td>Chrome Mobile</td>\n",
       "      <td>0</td>\n",
       "      <td>0</td>\n",
       "    </tr>\n",
       "    <tr>\n",
       "      <th>8073</th>\n",
       "      <td>ffea3210-2c3e-426f-a77d-0aa72e73b20f</td>\n",
       "      <td>control</td>\n",
       "      <td>2020-07-03</td>\n",
       "      <td>15</td>\n",
       "      <td>Generic Smartphone</td>\n",
       "      <td>6</td>\n",
       "      <td>Chrome Mobile</td>\n",
       "      <td>0</td>\n",
       "      <td>0</td>\n",
       "    </tr>\n",
       "    <tr>\n",
       "      <th>8074</th>\n",
       "      <td>ffeaa0f1-1d72-4ba9-afb4-314b3b00a7c7</td>\n",
       "      <td>control</td>\n",
       "      <td>2020-07-04</td>\n",
       "      <td>9</td>\n",
       "      <td>Generic Smartphone</td>\n",
       "      <td>6</td>\n",
       "      <td>Chrome Mobile</td>\n",
       "      <td>0</td>\n",
       "      <td>0</td>\n",
       "    </tr>\n",
       "    <tr>\n",
       "      <th>8075</th>\n",
       "      <td>ffeeed62-3f7c-4a6e-8ba7-95d303d40969</td>\n",
       "      <td>exposed</td>\n",
       "      <td>2020-07-05</td>\n",
       "      <td>15</td>\n",
       "      <td>Samsung SM-A515F</td>\n",
       "      <td>6</td>\n",
       "      <td>Samsung Internet</td>\n",
       "      <td>0</td>\n",
       "      <td>0</td>\n",
       "    </tr>\n",
       "    <tr>\n",
       "      <th>8076</th>\n",
       "      <td>fffbb9ff-568a-41a5-a0c3-6866592f80d8</td>\n",
       "      <td>control</td>\n",
       "      <td>2020-07-10</td>\n",
       "      <td>14</td>\n",
       "      <td>Samsung SM-G960F</td>\n",
       "      <td>6</td>\n",
       "      <td>Facebook</td>\n",
       "      <td>0</td>\n",
       "      <td>0</td>\n",
       "    </tr>\n",
       "  </tbody>\n",
       "</table>\n",
       "<p>8077 rows × 9 columns</p>\n",
       "</div>"
      ],
      "text/plain": [
       "                                auction_id experiment        date  hour  \\\n",
       "0     0008ef63-77a7-448b-bd1e-075f42c55e39    exposed  2020-07-10     8   \n",
       "1     000eabc5-17ce-4137-8efe-44734d914446    exposed  2020-07-07    10   \n",
       "2     0016d14a-ae18-4a02-a204-6ba53b52f2ed    exposed  2020-07-05     2   \n",
       "3     00187412-2932-4542-a8ef-3633901c98d9    control  2020-07-03    15   \n",
       "4     001a7785-d3fe-4e11-a344-c8735acacc2c    control  2020-07-03    15   \n",
       "...                                    ...        ...         ...   ...   \n",
       "8072  ffea24ec-cec1-43fb-b1d1-8f93828c2be2    exposed  2020-07-05     7   \n",
       "8073  ffea3210-2c3e-426f-a77d-0aa72e73b20f    control  2020-07-03    15   \n",
       "8074  ffeaa0f1-1d72-4ba9-afb4-314b3b00a7c7    control  2020-07-04     9   \n",
       "8075  ffeeed62-3f7c-4a6e-8ba7-95d303d40969    exposed  2020-07-05    15   \n",
       "8076  fffbb9ff-568a-41a5-a0c3-6866592f80d8    control  2020-07-10    14   \n",
       "\n",
       "             device_make  platform_os                browser  yes  no  \n",
       "0     Generic Smartphone            6          Chrome Mobile    0   0  \n",
       "1     Generic Smartphone            6          Chrome Mobile    0   0  \n",
       "2                  E5823            6  Chrome Mobile WebView    0   1  \n",
       "3      Samsung SM-A705FN            6               Facebook    0   0  \n",
       "4     Generic Smartphone            6          Chrome Mobile    0   0  \n",
       "...                  ...          ...                    ...  ...  ..  \n",
       "8072  Generic Smartphone            6          Chrome Mobile    0   0  \n",
       "8073  Generic Smartphone            6          Chrome Mobile    0   0  \n",
       "8074  Generic Smartphone            6          Chrome Mobile    0   0  \n",
       "8075    Samsung SM-A515F            6       Samsung Internet    0   0  \n",
       "8076    Samsung SM-G960F            6               Facebook    0   0  \n",
       "\n",
       "[8077 rows x 9 columns]"
      ]
     },
     "execution_count": 2,
     "metadata": {},
     "output_type": "execute_result"
    }
   ],
   "source": [
    "AdSmart=pd.read_csv(\"AdSmartABdata - AdSmartABdata.csv\")\n",
    "AdSmart"
   ]
  },
  {
   "cell_type": "code",
   "execution_count": 3,
   "id": "4565315a",
   "metadata": {},
   "outputs": [
    {
     "data": {
      "text/html": [
       "<div>\n",
       "<style scoped>\n",
       "    .dataframe tbody tr th:only-of-type {\n",
       "        vertical-align: middle;\n",
       "    }\n",
       "\n",
       "    .dataframe tbody tr th {\n",
       "        vertical-align: top;\n",
       "    }\n",
       "\n",
       "    .dataframe thead th {\n",
       "        text-align: right;\n",
       "    }\n",
       "</style>\n",
       "<table border=\"1\" class=\"dataframe\">\n",
       "  <thead>\n",
       "    <tr style=\"text-align: right;\">\n",
       "      <th></th>\n",
       "      <th>auction_id</th>\n",
       "      <th>experiment</th>\n",
       "      <th>date</th>\n",
       "      <th>hour</th>\n",
       "      <th>device_make</th>\n",
       "      <th>platform_os</th>\n",
       "      <th>browser</th>\n",
       "      <th>yes</th>\n",
       "      <th>no</th>\n",
       "    </tr>\n",
       "  </thead>\n",
       "  <tbody>\n",
       "    <tr>\n",
       "      <th>8067</th>\n",
       "      <td>ffc594ef-756c-4d24-a310-0d8eb4e11eb7</td>\n",
       "      <td>exposed</td>\n",
       "      <td>2020-07-05</td>\n",
       "      <td>1</td>\n",
       "      <td>Samsung SM-G950F</td>\n",
       "      <td>6</td>\n",
       "      <td>Chrome Mobile WebView</td>\n",
       "      <td>0</td>\n",
       "      <td>0</td>\n",
       "    </tr>\n",
       "    <tr>\n",
       "      <th>8068</th>\n",
       "      <td>ffc860d9-dece-4e24-92b2-3379fe7dc73d</td>\n",
       "      <td>control</td>\n",
       "      <td>2020-07-10</td>\n",
       "      <td>8</td>\n",
       "      <td>Samsung SM-A520F</td>\n",
       "      <td>6</td>\n",
       "      <td>Samsung Internet</td>\n",
       "      <td>0</td>\n",
       "      <td>0</td>\n",
       "    </tr>\n",
       "    <tr>\n",
       "      <th>8069</th>\n",
       "      <td>ffca1153-c182-4f32-9e90-2a6008417497</td>\n",
       "      <td>control</td>\n",
       "      <td>2020-07-10</td>\n",
       "      <td>16</td>\n",
       "      <td>Generic Smartphone</td>\n",
       "      <td>6</td>\n",
       "      <td>Chrome Mobile</td>\n",
       "      <td>0</td>\n",
       "      <td>1</td>\n",
       "    </tr>\n",
       "    <tr>\n",
       "      <th>8070</th>\n",
       "      <td>ffcea781-a6e7-4f98-9d90-f95377270476</td>\n",
       "      <td>control</td>\n",
       "      <td>2020-07-03</td>\n",
       "      <td>15</td>\n",
       "      <td>Samsung SM-N976B</td>\n",
       "      <td>6</td>\n",
       "      <td>Facebook</td>\n",
       "      <td>0</td>\n",
       "      <td>0</td>\n",
       "    </tr>\n",
       "    <tr>\n",
       "      <th>8071</th>\n",
       "      <td>ffdfdc09-48c7-4bfb-80f8-ec1eb633602b</td>\n",
       "      <td>exposed</td>\n",
       "      <td>2020-07-03</td>\n",
       "      <td>4</td>\n",
       "      <td>Generic Smartphone</td>\n",
       "      <td>6</td>\n",
       "      <td>Chrome Mobile</td>\n",
       "      <td>0</td>\n",
       "      <td>1</td>\n",
       "    </tr>\n",
       "    <tr>\n",
       "      <th>8072</th>\n",
       "      <td>ffea24ec-cec1-43fb-b1d1-8f93828c2be2</td>\n",
       "      <td>exposed</td>\n",
       "      <td>2020-07-05</td>\n",
       "      <td>7</td>\n",
       "      <td>Generic Smartphone</td>\n",
       "      <td>6</td>\n",
       "      <td>Chrome Mobile</td>\n",
       "      <td>0</td>\n",
       "      <td>0</td>\n",
       "    </tr>\n",
       "    <tr>\n",
       "      <th>8073</th>\n",
       "      <td>ffea3210-2c3e-426f-a77d-0aa72e73b20f</td>\n",
       "      <td>control</td>\n",
       "      <td>2020-07-03</td>\n",
       "      <td>15</td>\n",
       "      <td>Generic Smartphone</td>\n",
       "      <td>6</td>\n",
       "      <td>Chrome Mobile</td>\n",
       "      <td>0</td>\n",
       "      <td>0</td>\n",
       "    </tr>\n",
       "    <tr>\n",
       "      <th>8074</th>\n",
       "      <td>ffeaa0f1-1d72-4ba9-afb4-314b3b00a7c7</td>\n",
       "      <td>control</td>\n",
       "      <td>2020-07-04</td>\n",
       "      <td>9</td>\n",
       "      <td>Generic Smartphone</td>\n",
       "      <td>6</td>\n",
       "      <td>Chrome Mobile</td>\n",
       "      <td>0</td>\n",
       "      <td>0</td>\n",
       "    </tr>\n",
       "    <tr>\n",
       "      <th>8075</th>\n",
       "      <td>ffeeed62-3f7c-4a6e-8ba7-95d303d40969</td>\n",
       "      <td>exposed</td>\n",
       "      <td>2020-07-05</td>\n",
       "      <td>15</td>\n",
       "      <td>Samsung SM-A515F</td>\n",
       "      <td>6</td>\n",
       "      <td>Samsung Internet</td>\n",
       "      <td>0</td>\n",
       "      <td>0</td>\n",
       "    </tr>\n",
       "    <tr>\n",
       "      <th>8076</th>\n",
       "      <td>fffbb9ff-568a-41a5-a0c3-6866592f80d8</td>\n",
       "      <td>control</td>\n",
       "      <td>2020-07-10</td>\n",
       "      <td>14</td>\n",
       "      <td>Samsung SM-G960F</td>\n",
       "      <td>6</td>\n",
       "      <td>Facebook</td>\n",
       "      <td>0</td>\n",
       "      <td>0</td>\n",
       "    </tr>\n",
       "  </tbody>\n",
       "</table>\n",
       "</div>"
      ],
      "text/plain": [
       "                                auction_id experiment        date  hour  \\\n",
       "8067  ffc594ef-756c-4d24-a310-0d8eb4e11eb7    exposed  2020-07-05     1   \n",
       "8068  ffc860d9-dece-4e24-92b2-3379fe7dc73d    control  2020-07-10     8   \n",
       "8069  ffca1153-c182-4f32-9e90-2a6008417497    control  2020-07-10    16   \n",
       "8070  ffcea781-a6e7-4f98-9d90-f95377270476    control  2020-07-03    15   \n",
       "8071  ffdfdc09-48c7-4bfb-80f8-ec1eb633602b    exposed  2020-07-03     4   \n",
       "8072  ffea24ec-cec1-43fb-b1d1-8f93828c2be2    exposed  2020-07-05     7   \n",
       "8073  ffea3210-2c3e-426f-a77d-0aa72e73b20f    control  2020-07-03    15   \n",
       "8074  ffeaa0f1-1d72-4ba9-afb4-314b3b00a7c7    control  2020-07-04     9   \n",
       "8075  ffeeed62-3f7c-4a6e-8ba7-95d303d40969    exposed  2020-07-05    15   \n",
       "8076  fffbb9ff-568a-41a5-a0c3-6866592f80d8    control  2020-07-10    14   \n",
       "\n",
       "             device_make  platform_os                browser  yes  no  \n",
       "8067    Samsung SM-G950F            6  Chrome Mobile WebView    0   0  \n",
       "8068    Samsung SM-A520F            6       Samsung Internet    0   0  \n",
       "8069  Generic Smartphone            6          Chrome Mobile    0   1  \n",
       "8070    Samsung SM-N976B            6               Facebook    0   0  \n",
       "8071  Generic Smartphone            6          Chrome Mobile    0   1  \n",
       "8072  Generic Smartphone            6          Chrome Mobile    0   0  \n",
       "8073  Generic Smartphone            6          Chrome Mobile    0   0  \n",
       "8074  Generic Smartphone            6          Chrome Mobile    0   0  \n",
       "8075    Samsung SM-A515F            6       Samsung Internet    0   0  \n",
       "8076    Samsung SM-G960F            6               Facebook    0   0  "
      ]
     },
     "execution_count": 3,
     "metadata": {},
     "output_type": "execute_result"
    }
   ],
   "source": [
    "AdSmart.tail(10)"
   ]
  },
  {
   "cell_type": "code",
   "execution_count": 4,
   "id": "ee46b4c8",
   "metadata": {},
   "outputs": [
    {
     "data": {
      "text/plain": [
       "(8077, 9)"
      ]
     },
     "execution_count": 4,
     "metadata": {},
     "output_type": "execute_result"
    }
   ],
   "source": [
    "AdSmart.shape"
   ]
  },
  {
   "cell_type": "code",
   "execution_count": 5,
   "id": "89a835f0",
   "metadata": {
    "scrolled": false
   },
   "outputs": [
    {
     "name": "stdout",
     "output_type": "stream",
     "text": [
      "<class 'pandas.core.frame.DataFrame'>\n",
      "RangeIndex: 8077 entries, 0 to 8076\n",
      "Data columns (total 9 columns):\n",
      " #   Column       Non-Null Count  Dtype \n",
      "---  ------       --------------  ----- \n",
      " 0   auction_id   8077 non-null   object\n",
      " 1   experiment   8077 non-null   object\n",
      " 2   date         8077 non-null   object\n",
      " 3   hour         8077 non-null   int64 \n",
      " 4   device_make  8077 non-null   object\n",
      " 5   platform_os  8077 non-null   int64 \n",
      " 6   browser      8077 non-null   object\n",
      " 7   yes          8077 non-null   int64 \n",
      " 8   no           8077 non-null   int64 \n",
      "dtypes: int64(4), object(5)\n",
      "memory usage: 568.0+ KB\n"
     ]
    }
   ],
   "source": [
    "AdSmart.info()"
   ]
  },
  {
   "cell_type": "code",
   "execution_count": null,
   "id": "84d615dd",
   "metadata": {},
   "outputs": [],
   "source": []
  },
  {
   "cell_type": "markdown",
   "id": "d7539520",
   "metadata": {},
   "source": [
    "__Data Preprocessing__"
   ]
  },
  {
   "cell_type": "markdown",
   "id": "d63f58cb",
   "metadata": {},
   "source": [
    "__Check for null values__"
   ]
  },
  {
   "cell_type": "code",
   "execution_count": 6,
   "id": "646a0614",
   "metadata": {
    "scrolled": false
   },
   "outputs": [
    {
     "data": {
      "text/plain": [
       "auction_id     0\n",
       "experiment     0\n",
       "date           0\n",
       "hour           0\n",
       "device_make    0\n",
       "platform_os    0\n",
       "browser        0\n",
       "yes            0\n",
       "no             0\n",
       "dtype: int64"
      ]
     },
     "execution_count": 6,
     "metadata": {},
     "output_type": "execute_result"
    }
   ],
   "source": [
    "AdSmart.isnull().sum()"
   ]
  },
  {
   "cell_type": "markdown",
   "id": "f02e5065",
   "metadata": {},
   "source": [
    "_*there is no null values_"
   ]
  },
  {
   "cell_type": "markdown",
   "id": "561885ba",
   "metadata": {},
   "source": [
    "__Check non-answer observations__ (both 'yes' and 'no' columns are equal to 0)"
   ]
  },
  {
   "cell_type": "code",
   "execution_count": 7,
   "id": "e8c0132b",
   "metadata": {
    "scrolled": false
   },
   "outputs": [
    {
     "data": {
      "text/html": [
       "<div>\n",
       "<style scoped>\n",
       "    .dataframe tbody tr th:only-of-type {\n",
       "        vertical-align: middle;\n",
       "    }\n",
       "\n",
       "    .dataframe tbody tr th {\n",
       "        vertical-align: top;\n",
       "    }\n",
       "\n",
       "    .dataframe thead th {\n",
       "        text-align: right;\n",
       "    }\n",
       "</style>\n",
       "<table border=\"1\" class=\"dataframe\">\n",
       "  <thead>\n",
       "    <tr style=\"text-align: right;\">\n",
       "      <th></th>\n",
       "      <th>auction_id</th>\n",
       "      <th>experiment</th>\n",
       "      <th>date</th>\n",
       "      <th>hour</th>\n",
       "      <th>device_make</th>\n",
       "      <th>platform_os</th>\n",
       "      <th>browser</th>\n",
       "      <th>yes</th>\n",
       "      <th>no</th>\n",
       "    </tr>\n",
       "  </thead>\n",
       "  <tbody>\n",
       "    <tr>\n",
       "      <th>0</th>\n",
       "      <td>0008ef63-77a7-448b-bd1e-075f42c55e39</td>\n",
       "      <td>exposed</td>\n",
       "      <td>2020-07-10</td>\n",
       "      <td>8</td>\n",
       "      <td>Generic Smartphone</td>\n",
       "      <td>6</td>\n",
       "      <td>Chrome Mobile</td>\n",
       "      <td>0</td>\n",
       "      <td>0</td>\n",
       "    </tr>\n",
       "    <tr>\n",
       "      <th>1</th>\n",
       "      <td>000eabc5-17ce-4137-8efe-44734d914446</td>\n",
       "      <td>exposed</td>\n",
       "      <td>2020-07-07</td>\n",
       "      <td>10</td>\n",
       "      <td>Generic Smartphone</td>\n",
       "      <td>6</td>\n",
       "      <td>Chrome Mobile</td>\n",
       "      <td>0</td>\n",
       "      <td>0</td>\n",
       "    </tr>\n",
       "    <tr>\n",
       "      <th>3</th>\n",
       "      <td>00187412-2932-4542-a8ef-3633901c98d9</td>\n",
       "      <td>control</td>\n",
       "      <td>2020-07-03</td>\n",
       "      <td>15</td>\n",
       "      <td>Samsung SM-A705FN</td>\n",
       "      <td>6</td>\n",
       "      <td>Facebook</td>\n",
       "      <td>0</td>\n",
       "      <td>0</td>\n",
       "    </tr>\n",
       "    <tr>\n",
       "      <th>4</th>\n",
       "      <td>001a7785-d3fe-4e11-a344-c8735acacc2c</td>\n",
       "      <td>control</td>\n",
       "      <td>2020-07-03</td>\n",
       "      <td>15</td>\n",
       "      <td>Generic Smartphone</td>\n",
       "      <td>6</td>\n",
       "      <td>Chrome Mobile</td>\n",
       "      <td>0</td>\n",
       "      <td>0</td>\n",
       "    </tr>\n",
       "    <tr>\n",
       "      <th>5</th>\n",
       "      <td>0027ce48-d3c6-4935-bb12-dfb5d5627857</td>\n",
       "      <td>control</td>\n",
       "      <td>2020-07-03</td>\n",
       "      <td>15</td>\n",
       "      <td>Samsung SM-G960F</td>\n",
       "      <td>6</td>\n",
       "      <td>Facebook</td>\n",
       "      <td>0</td>\n",
       "      <td>0</td>\n",
       "    </tr>\n",
       "    <tr>\n",
       "      <th>...</th>\n",
       "      <td>...</td>\n",
       "      <td>...</td>\n",
       "      <td>...</td>\n",
       "      <td>...</td>\n",
       "      <td>...</td>\n",
       "      <td>...</td>\n",
       "      <td>...</td>\n",
       "      <td>...</td>\n",
       "      <td>...</td>\n",
       "    </tr>\n",
       "    <tr>\n",
       "      <th>8072</th>\n",
       "      <td>ffea24ec-cec1-43fb-b1d1-8f93828c2be2</td>\n",
       "      <td>exposed</td>\n",
       "      <td>2020-07-05</td>\n",
       "      <td>7</td>\n",
       "      <td>Generic Smartphone</td>\n",
       "      <td>6</td>\n",
       "      <td>Chrome Mobile</td>\n",
       "      <td>0</td>\n",
       "      <td>0</td>\n",
       "    </tr>\n",
       "    <tr>\n",
       "      <th>8073</th>\n",
       "      <td>ffea3210-2c3e-426f-a77d-0aa72e73b20f</td>\n",
       "      <td>control</td>\n",
       "      <td>2020-07-03</td>\n",
       "      <td>15</td>\n",
       "      <td>Generic Smartphone</td>\n",
       "      <td>6</td>\n",
       "      <td>Chrome Mobile</td>\n",
       "      <td>0</td>\n",
       "      <td>0</td>\n",
       "    </tr>\n",
       "    <tr>\n",
       "      <th>8074</th>\n",
       "      <td>ffeaa0f1-1d72-4ba9-afb4-314b3b00a7c7</td>\n",
       "      <td>control</td>\n",
       "      <td>2020-07-04</td>\n",
       "      <td>9</td>\n",
       "      <td>Generic Smartphone</td>\n",
       "      <td>6</td>\n",
       "      <td>Chrome Mobile</td>\n",
       "      <td>0</td>\n",
       "      <td>0</td>\n",
       "    </tr>\n",
       "    <tr>\n",
       "      <th>8075</th>\n",
       "      <td>ffeeed62-3f7c-4a6e-8ba7-95d303d40969</td>\n",
       "      <td>exposed</td>\n",
       "      <td>2020-07-05</td>\n",
       "      <td>15</td>\n",
       "      <td>Samsung SM-A515F</td>\n",
       "      <td>6</td>\n",
       "      <td>Samsung Internet</td>\n",
       "      <td>0</td>\n",
       "      <td>0</td>\n",
       "    </tr>\n",
       "    <tr>\n",
       "      <th>8076</th>\n",
       "      <td>fffbb9ff-568a-41a5-a0c3-6866592f80d8</td>\n",
       "      <td>control</td>\n",
       "      <td>2020-07-10</td>\n",
       "      <td>14</td>\n",
       "      <td>Samsung SM-G960F</td>\n",
       "      <td>6</td>\n",
       "      <td>Facebook</td>\n",
       "      <td>0</td>\n",
       "      <td>0</td>\n",
       "    </tr>\n",
       "  </tbody>\n",
       "</table>\n",
       "<p>6834 rows × 9 columns</p>\n",
       "</div>"
      ],
      "text/plain": [
       "                                auction_id experiment        date  hour  \\\n",
       "0     0008ef63-77a7-448b-bd1e-075f42c55e39    exposed  2020-07-10     8   \n",
       "1     000eabc5-17ce-4137-8efe-44734d914446    exposed  2020-07-07    10   \n",
       "3     00187412-2932-4542-a8ef-3633901c98d9    control  2020-07-03    15   \n",
       "4     001a7785-d3fe-4e11-a344-c8735acacc2c    control  2020-07-03    15   \n",
       "5     0027ce48-d3c6-4935-bb12-dfb5d5627857    control  2020-07-03    15   \n",
       "...                                    ...        ...         ...   ...   \n",
       "8072  ffea24ec-cec1-43fb-b1d1-8f93828c2be2    exposed  2020-07-05     7   \n",
       "8073  ffea3210-2c3e-426f-a77d-0aa72e73b20f    control  2020-07-03    15   \n",
       "8074  ffeaa0f1-1d72-4ba9-afb4-314b3b00a7c7    control  2020-07-04     9   \n",
       "8075  ffeeed62-3f7c-4a6e-8ba7-95d303d40969    exposed  2020-07-05    15   \n",
       "8076  fffbb9ff-568a-41a5-a0c3-6866592f80d8    control  2020-07-10    14   \n",
       "\n",
       "             device_make  platform_os           browser  yes  no  \n",
       "0     Generic Smartphone            6     Chrome Mobile    0   0  \n",
       "1     Generic Smartphone            6     Chrome Mobile    0   0  \n",
       "3      Samsung SM-A705FN            6          Facebook    0   0  \n",
       "4     Generic Smartphone            6     Chrome Mobile    0   0  \n",
       "5       Samsung SM-G960F            6          Facebook    0   0  \n",
       "...                  ...          ...               ...  ...  ..  \n",
       "8072  Generic Smartphone            6     Chrome Mobile    0   0  \n",
       "8073  Generic Smartphone            6     Chrome Mobile    0   0  \n",
       "8074  Generic Smartphone            6     Chrome Mobile    0   0  \n",
       "8075    Samsung SM-A515F            6  Samsung Internet    0   0  \n",
       "8076    Samsung SM-G960F            6          Facebook    0   0  \n",
       "\n",
       "[6834 rows x 9 columns]"
      ]
     },
     "execution_count": 7,
     "metadata": {},
     "output_type": "execute_result"
    }
   ],
   "source": [
    "AdSmart_NoAns = AdSmart[(AdSmart['yes'] == 0) & (AdSmart['no'] == 0)]\n",
    "AdSmart_NoAns"
   ]
  },
  {
   "cell_type": "markdown",
   "id": "ea0ae0a2",
   "metadata": {},
   "source": [
    "_*we will drop 6834 observations_"
   ]
  },
  {
   "cell_type": "code",
   "execution_count": null,
   "id": "9f18db05",
   "metadata": {},
   "outputs": [],
   "source": []
  },
  {
   "cell_type": "markdown",
   "id": "c6ac243b",
   "metadata": {},
   "source": [
    "__Drop non-answer observations and assign to another variable__"
   ]
  },
  {
   "cell_type": "code",
   "execution_count": 8,
   "id": "48c2cccf",
   "metadata": {},
   "outputs": [],
   "source": [
    "AdSmart_AfterNoAns= AdSmart.drop(AdSmart_NoAns.index)"
   ]
  },
  {
   "cell_type": "code",
   "execution_count": 9,
   "id": "b39e0208",
   "metadata": {},
   "outputs": [
    {
     "data": {
      "text/plain": [
       "(1243, 9)"
      ]
     },
     "execution_count": 9,
     "metadata": {},
     "output_type": "execute_result"
    }
   ],
   "source": [
    "AdSmart_AfterNoAns.shape"
   ]
  },
  {
   "cell_type": "markdown",
   "id": "1b676cd8",
   "metadata": {},
   "source": [
    "_*only left with 1243 observations_"
   ]
  },
  {
   "cell_type": "code",
   "execution_count": 10,
   "id": "a70dae09",
   "metadata": {
    "scrolled": true
   },
   "outputs": [
    {
     "data": {
      "text/html": [
       "<div>\n",
       "<style scoped>\n",
       "    .dataframe tbody tr th:only-of-type {\n",
       "        vertical-align: middle;\n",
       "    }\n",
       "\n",
       "    .dataframe tbody tr th {\n",
       "        vertical-align: top;\n",
       "    }\n",
       "\n",
       "    .dataframe thead th {\n",
       "        text-align: right;\n",
       "    }\n",
       "</style>\n",
       "<table border=\"1\" class=\"dataframe\">\n",
       "  <thead>\n",
       "    <tr style=\"text-align: right;\">\n",
       "      <th></th>\n",
       "      <th>auction_id</th>\n",
       "      <th>experiment</th>\n",
       "      <th>date</th>\n",
       "      <th>hour</th>\n",
       "      <th>device_make</th>\n",
       "      <th>platform_os</th>\n",
       "      <th>browser</th>\n",
       "      <th>yes</th>\n",
       "      <th>no</th>\n",
       "    </tr>\n",
       "  </thead>\n",
       "  <tbody>\n",
       "    <tr>\n",
       "      <th>2</th>\n",
       "      <td>0016d14a-ae18-4a02-a204-6ba53b52f2ed</td>\n",
       "      <td>exposed</td>\n",
       "      <td>2020-07-05</td>\n",
       "      <td>2</td>\n",
       "      <td>E5823</td>\n",
       "      <td>6</td>\n",
       "      <td>Chrome Mobile WebView</td>\n",
       "      <td>0</td>\n",
       "      <td>1</td>\n",
       "    </tr>\n",
       "    <tr>\n",
       "      <th>16</th>\n",
       "      <td>008aafdf-deef-4482-8fec-d98e3da054da</td>\n",
       "      <td>exposed</td>\n",
       "      <td>2020-07-04</td>\n",
       "      <td>16</td>\n",
       "      <td>Generic Smartphone</td>\n",
       "      <td>6</td>\n",
       "      <td>Chrome Mobile</td>\n",
       "      <td>1</td>\n",
       "      <td>0</td>\n",
       "    </tr>\n",
       "    <tr>\n",
       "      <th>20</th>\n",
       "      <td>00a1384a-5118-4d1b-925b-6cdada50318d</td>\n",
       "      <td>exposed</td>\n",
       "      <td>2020-07-06</td>\n",
       "      <td>8</td>\n",
       "      <td>Generic Smartphone</td>\n",
       "      <td>6</td>\n",
       "      <td>Chrome Mobile</td>\n",
       "      <td>0</td>\n",
       "      <td>1</td>\n",
       "    </tr>\n",
       "    <tr>\n",
       "      <th>23</th>\n",
       "      <td>00b6fadb-10bd-49e3-a778-290da82f7a8d</td>\n",
       "      <td>control</td>\n",
       "      <td>2020-07-08</td>\n",
       "      <td>4</td>\n",
       "      <td>Samsung SM-A202F</td>\n",
       "      <td>6</td>\n",
       "      <td>Facebook</td>\n",
       "      <td>1</td>\n",
       "      <td>0</td>\n",
       "    </tr>\n",
       "    <tr>\n",
       "      <th>27</th>\n",
       "      <td>00ebf4a8-060f-4b99-93ac-c62724399483</td>\n",
       "      <td>control</td>\n",
       "      <td>2020-07-03</td>\n",
       "      <td>15</td>\n",
       "      <td>Generic Smartphone</td>\n",
       "      <td>6</td>\n",
       "      <td>Chrome Mobile</td>\n",
       "      <td>0</td>\n",
       "      <td>1</td>\n",
       "    </tr>\n",
       "  </tbody>\n",
       "</table>\n",
       "</div>"
      ],
      "text/plain": [
       "                              auction_id experiment        date  hour  \\\n",
       "2   0016d14a-ae18-4a02-a204-6ba53b52f2ed    exposed  2020-07-05     2   \n",
       "16  008aafdf-deef-4482-8fec-d98e3da054da    exposed  2020-07-04    16   \n",
       "20  00a1384a-5118-4d1b-925b-6cdada50318d    exposed  2020-07-06     8   \n",
       "23  00b6fadb-10bd-49e3-a778-290da82f7a8d    control  2020-07-08     4   \n",
       "27  00ebf4a8-060f-4b99-93ac-c62724399483    control  2020-07-03    15   \n",
       "\n",
       "           device_make  platform_os                browser  yes  no  \n",
       "2                E5823            6  Chrome Mobile WebView    0   1  \n",
       "16  Generic Smartphone            6          Chrome Mobile    1   0  \n",
       "20  Generic Smartphone            6          Chrome Mobile    0   1  \n",
       "23    Samsung SM-A202F            6               Facebook    1   0  \n",
       "27  Generic Smartphone            6          Chrome Mobile    0   1  "
      ]
     },
     "execution_count": 10,
     "metadata": {},
     "output_type": "execute_result"
    }
   ],
   "source": [
    "AdSmart_AfterNoAns.head()"
   ]
  },
  {
   "cell_type": "code",
   "execution_count": null,
   "id": "f469910d",
   "metadata": {},
   "outputs": [],
   "source": []
  },
  {
   "cell_type": "markdown",
   "id": "fd6ff492",
   "metadata": {},
   "source": [
    "__Exploratory Data Analysis__"
   ]
  },
  {
   "cell_type": "code",
   "execution_count": 11,
   "id": "d897ec6b",
   "metadata": {},
   "outputs": [
    {
     "data": {
      "text/plain": [
       "exposed    657\n",
       "control    586\n",
       "Name: experiment, dtype: int64"
      ]
     },
     "execution_count": 11,
     "metadata": {},
     "output_type": "execute_result"
    }
   ],
   "source": [
    "AdSmart_AfterNoAns['experiment'].value_counts()"
   ]
  },
  {
   "cell_type": "code",
   "execution_count": 12,
   "id": "77fef1bb",
   "metadata": {},
   "outputs": [
    {
     "data": {
      "text/plain": [
       "586"
      ]
     },
     "execution_count": 12,
     "metadata": {},
     "output_type": "execute_result"
    }
   ],
   "source": [
    "Num_con= AdSmart_AfterNoAns.experiment.value_counts().control\n",
    "Num_con"
   ]
  },
  {
   "cell_type": "code",
   "execution_count": 13,
   "id": "fbafe11e",
   "metadata": {},
   "outputs": [
    {
     "data": {
      "text/plain": [
       "657"
      ]
     },
     "execution_count": 13,
     "metadata": {},
     "output_type": "execute_result"
    }
   ],
   "source": [
    "Num_exp= AdSmart_AfterNoAns.experiment.value_counts().exposed\n",
    "Num_exp"
   ]
  },
  {
   "cell_type": "code",
   "execution_count": 14,
   "id": "611e3c9c",
   "metadata": {
    "scrolled": true
   },
   "outputs": [
    {
     "data": {
      "text/html": [
       "<div>\n",
       "<style scoped>\n",
       "    .dataframe tbody tr th:only-of-type {\n",
       "        vertical-align: middle;\n",
       "    }\n",
       "\n",
       "    .dataframe tbody tr th {\n",
       "        vertical-align: top;\n",
       "    }\n",
       "\n",
       "    .dataframe thead th {\n",
       "        text-align: right;\n",
       "    }\n",
       "</style>\n",
       "<table border=\"1\" class=\"dataframe\">\n",
       "  <thead>\n",
       "    <tr style=\"text-align: right;\">\n",
       "      <th></th>\n",
       "      <th>hour</th>\n",
       "      <th>platform_os</th>\n",
       "      <th>yes</th>\n",
       "      <th>no</th>\n",
       "    </tr>\n",
       "    <tr>\n",
       "      <th>experiment</th>\n",
       "      <th></th>\n",
       "      <th></th>\n",
       "      <th></th>\n",
       "      <th></th>\n",
       "    </tr>\n",
       "  </thead>\n",
       "  <tbody>\n",
       "    <tr>\n",
       "      <th>control</th>\n",
       "      <td>7282</td>\n",
       "      <td>3503</td>\n",
       "      <td>264</td>\n",
       "      <td>322</td>\n",
       "    </tr>\n",
       "    <tr>\n",
       "      <th>exposed</th>\n",
       "      <td>7038</td>\n",
       "      <td>3938</td>\n",
       "      <td>308</td>\n",
       "      <td>349</td>\n",
       "    </tr>\n",
       "  </tbody>\n",
       "</table>\n",
       "</div>"
      ],
      "text/plain": [
       "            hour  platform_os  yes   no\n",
       "experiment                             \n",
       "control     7282         3503  264  322\n",
       "exposed     7038         3938  308  349"
      ]
     },
     "execution_count": 14,
     "metadata": {},
     "output_type": "execute_result"
    }
   ],
   "source": [
    "Exper= AdSmart_AfterNoAns.groupby(['experiment']).sum()\n",
    "Exper"
   ]
  },
  {
   "cell_type": "code",
   "execution_count": 15,
   "id": "088091fa",
   "metadata": {},
   "outputs": [
    {
     "name": "stderr",
     "output_type": "stream",
     "text": [
      "C:\\Users\\TT Z580\\AppData\\Local\\Temp\\ipykernel_30204\\587089310.py:1: FutureWarning: Indexing with multiple keys (implicitly converted to a tuple of keys) will be deprecated, use a list instead.\n",
      "  Exper_YesNo= AdSmart_AfterNoAns.groupby('experiment')['yes','no'].sum()\n"
     ]
    },
    {
     "data": {
      "text/html": [
       "<div>\n",
       "<style scoped>\n",
       "    .dataframe tbody tr th:only-of-type {\n",
       "        vertical-align: middle;\n",
       "    }\n",
       "\n",
       "    .dataframe tbody tr th {\n",
       "        vertical-align: top;\n",
       "    }\n",
       "\n",
       "    .dataframe thead th {\n",
       "        text-align: right;\n",
       "    }\n",
       "</style>\n",
       "<table border=\"1\" class=\"dataframe\">\n",
       "  <thead>\n",
       "    <tr style=\"text-align: right;\">\n",
       "      <th></th>\n",
       "      <th>yes</th>\n",
       "      <th>no</th>\n",
       "    </tr>\n",
       "    <tr>\n",
       "      <th>experiment</th>\n",
       "      <th></th>\n",
       "      <th></th>\n",
       "    </tr>\n",
       "  </thead>\n",
       "  <tbody>\n",
       "    <tr>\n",
       "      <th>control</th>\n",
       "      <td>264</td>\n",
       "      <td>322</td>\n",
       "    </tr>\n",
       "    <tr>\n",
       "      <th>exposed</th>\n",
       "      <td>308</td>\n",
       "      <td>349</td>\n",
       "    </tr>\n",
       "  </tbody>\n",
       "</table>\n",
       "</div>"
      ],
      "text/plain": [
       "            yes   no\n",
       "experiment          \n",
       "control     264  322\n",
       "exposed     308  349"
      ]
     },
     "execution_count": 15,
     "metadata": {},
     "output_type": "execute_result"
    }
   ],
   "source": [
    "Exper_YesNo= AdSmart_AfterNoAns.groupby('experiment')['yes','no'].sum()\n",
    "Exper_YesNo"
   ]
  },
  {
   "cell_type": "code",
   "execution_count": 16,
   "id": "55e17371",
   "metadata": {
    "scrolled": true
   },
   "outputs": [
    {
     "data": {
      "text/plain": [
       "experiment\n",
       "control    264\n",
       "exposed    308\n",
       "Name: yes, dtype: int64"
      ]
     },
     "execution_count": 16,
     "metadata": {},
     "output_type": "execute_result"
    }
   ],
   "source": [
    "Exper_Yes= AdSmart_AfterNoAns.groupby('experiment')['yes'].sum()\n",
    "Exper_Yes"
   ]
  },
  {
   "cell_type": "code",
   "execution_count": 17,
   "id": "a35453ee",
   "metadata": {},
   "outputs": [
    {
     "data": {
      "text/plain": [
       "(264, 308)"
      ]
     },
     "execution_count": 17,
     "metadata": {},
     "output_type": "execute_result"
    }
   ],
   "source": [
    "Con_Yes=Exper_Yes.iloc[0]\n",
    "Exp_Yes=Exper_Yes.iloc[1]\n",
    "Con_Yes, Exp_Yes"
   ]
  },
  {
   "cell_type": "code",
   "execution_count": 18,
   "id": "cbe39028",
   "metadata": {},
   "outputs": [
    {
     "name": "stdout",
     "output_type": "stream",
     "text": [
      "0.45051194539249145\n",
      "0.4687975646879756\n"
     ]
    }
   ],
   "source": [
    "rate_con, rate_exp = Con_Yes/Num_con, Exp_Yes/Num_exp\n",
    "print(rate_con)\n",
    "print(rate_exp)"
   ]
  },
  {
   "cell_type": "markdown",
   "id": "17c600b1",
   "metadata": {},
   "source": [
    "_Ad Success Control group 45.05%_\n",
    "\n",
    "_Ad Success Exposed group 46.88%_\n",
    "\n",
    "_Ad success is higher on the exposed group by __4%___"
   ]
  },
  {
   "cell_type": "code",
   "execution_count": null,
   "id": "8159118e",
   "metadata": {},
   "outputs": [],
   "source": []
  },
  {
   "cell_type": "markdown",
   "id": "30576992",
   "metadata": {},
   "source": [
    "__Statistical Significance__"
   ]
  },
  {
   "cell_type": "code",
   "execution_count": 19,
   "id": "6552f7a7",
   "metadata": {},
   "outputs": [],
   "source": [
    "# Significance Level\n",
    "alpha = 0.05"
   ]
  },
  {
   "cell_type": "code",
   "execution_count": 20,
   "id": "7c54c3a3",
   "metadata": {},
   "outputs": [
    {
     "data": {
      "text/plain": [
       "0.46017699115044247"
      ]
     },
     "execution_count": 20,
     "metadata": {},
     "output_type": "execute_result"
    }
   ],
   "source": [
    "p_pooled_hat= (Con_Yes+Exp_Yes)/(Num_con+Num_exp)\n",
    "p_pooled_hat"
   ]
  },
  {
   "cell_type": "code",
   "execution_count": 21,
   "id": "f068c899",
   "metadata": {},
   "outputs": [
    {
     "data": {
      "text/plain": [
       "0.0008020185896747209"
      ]
     },
     "execution_count": 21,
     "metadata": {},
     "output_type": "execute_result"
    }
   ],
   "source": [
    "pooled_variance= p_pooled_hat*(1-p_pooled_hat) * (1/Num_con + 1/Num_exp)\n",
    "pooled_variance"
   ]
  },
  {
   "cell_type": "code",
   "execution_count": 22,
   "id": "0113d47e",
   "metadata": {},
   "outputs": [
    {
     "data": {
      "text/plain": [
       "0.028319932727228023"
      ]
     },
     "execution_count": 22,
     "metadata": {},
     "output_type": "execute_result"
    }
   ],
   "source": [
    "# Standard Error\n",
    "SE = np.sqrt(pooled_variance)\n",
    "SE"
   ]
  },
  {
   "cell_type": "code",
   "execution_count": 23,
   "id": "5f3dddc5",
   "metadata": {},
   "outputs": [
    {
     "data": {
      "text/plain": [
       "-0.645680181221037"
      ]
     },
     "execution_count": 23,
     "metadata": {},
     "output_type": "execute_result"
    }
   ],
   "source": [
    "# test statsitics\n",
    "Test_stat = (rate_con - rate_exp)/SE\n",
    "Test_stat"
   ]
  },
  {
   "cell_type": "code",
   "execution_count": 24,
   "id": "5600fb08",
   "metadata": {},
   "outputs": [
    {
     "data": {
      "text/plain": [
       "1.959963984540054"
      ]
     },
     "execution_count": 24,
     "metadata": {},
     "output_type": "execute_result"
    }
   ],
   "source": [
    "# critical value usig the standard normal distribution\n",
    "Z_crit = norm.ppf(1-alpha/2)\n",
    "Z_crit"
   ]
  },
  {
   "cell_type": "code",
   "execution_count": 25,
   "id": "6215749d",
   "metadata": {},
   "outputs": [
    {
     "data": {
      "text/plain": [
       "0.055506048189964116"
      ]
     },
     "execution_count": 25,
     "metadata": {},
     "output_type": "execute_result"
    }
   ],
   "source": [
    "# Margin of error\n",
    "m = SE * Z_crit\n",
    "m"
   ]
  },
  {
   "cell_type": "code",
   "execution_count": 26,
   "id": "e5096787",
   "metadata": {},
   "outputs": [
    {
     "data": {
      "text/plain": [
       "1.4815135017801033"
      ]
     },
     "execution_count": 26,
     "metadata": {},
     "output_type": "execute_result"
    }
   ],
   "source": [
    "# two sided test and using symmetry property of Normal distibution so we multiple with 2\n",
    "p_value = norm.sf(Test_stat)*2\n",
    "p_value"
   ]
  },
  {
   "cell_type": "code",
   "execution_count": 27,
   "id": "6b127629",
   "metadata": {},
   "outputs": [
    {
     "data": {
      "text/plain": [
       "[-0.07379166748544828, 0.03722042889447995]"
      ]
     },
     "execution_count": 27,
     "metadata": {},
     "output_type": "execute_result"
    }
   ],
   "source": [
    "# Confidence Interval\n",
    "CI = [(rate_con-rate_exp) - SE * Z_crit, (rate_con-rate_exp) + SE * Z_crit]\n",
    "CI"
   ]
  },
  {
   "cell_type": "code",
   "execution_count": 28,
   "id": "07a93bd5",
   "metadata": {},
   "outputs": [
    {
     "name": "stdout",
     "output_type": "stream",
     "text": [
      "can not reject the null\n",
      "1.4815135017801033\n"
     ]
    }
   ],
   "source": [
    "if np.abs(Test_stat) >= Z_crit:\n",
    "    print(\"reject the null\")\n",
    "else:\n",
    "    print(\"can not reject the null\")\n",
    "    print(p_value)"
   ]
  },
  {
   "cell_type": "code",
   "execution_count": 29,
   "id": "f45b00eb",
   "metadata": {},
   "outputs": [
    {
     "name": "stdout",
     "output_type": "stream",
     "text": [
      "Test Statistics stat:  -0.645680181221037\n",
      "Z-critical:  1.959963984540054\n",
      "P_value:  1.4815135017801033\n",
      "Confidence Interval of 2 sample Z-test for proportions:  [-0.073792  0.03722 ]\n"
     ]
    }
   ],
   "source": [
    "print(\"Test Statistics stat: \", Test_stat)\n",
    "print(\"Z-critical: \", Z_crit)\n",
    "print(\"P_value: \", p_value)\n",
    "print(\"Confidence Interval of 2 sample Z-test for proportions: \", np.round(CI,6))"
   ]
  },
  {
   "cell_type": "code",
   "execution_count": 30,
   "id": "1e344661",
   "metadata": {},
   "outputs": [
    {
     "data": {
      "image/png": "[encoded data removed]",
      "text/plain": [
       "<Figure size 432x288 with 1 Axes>"
      ]
     },
     "metadata": {
      "needs_background": "light"
     },
     "output_type": "display_data"
    }
   ],
   "source": [
    "import matplotlib.pyplot as plt\n",
    "z = np.arange(-3,3,  0.1)\n",
    "plt.plot(z, norm.pdf(z), label = 'Standard Normal Distribution',color = 'purple',linewidth = 2.5)\n",
    "plt.fill_between(z[z>Z_crit], norm.pdf(z[z>Z_crit]), label = 'Right Rejection Region',color ='r' )\n",
    "plt.fill_between(z[z<(-1)*Z_crit], norm.pdf(z[z<(-1)*Z_crit]), label = 'Left Rejection Region',color ='r' )\n",
    "plt.title(\"Two Sample Z-test rejection region\")\n",
    "plt.legend()\n",
    "plt.show()"
   ]
  },
  {
   "cell_type": "markdown",
   "id": "7e1ba06c",
   "metadata": {},
   "source": [
    "__Conclusion__\n",
    "\n",
    "|Test_stat| < Z_crit (|-0.645680181221037| < 1.9599)\n",
    "\n",
    "We can not reject the null hypothesis and conclude that there is no statistically significant difference between the AdA and AdB\n",
    "\n",
    "These findings indicate that the new ad will yield no extra benefit.\n",
    "\n",
    "There were many unanswered observations. This may be a lack of observations as we have removed these unanswered observations from the dataset."
   ]
  },
  {
   "cell_type": "code",
   "execution_count": null,
   "id": "1478b98f",
   "metadata": {},
   "outputs": [],
   "source": []
  },
  {
   "cell_type": "code",
   "execution_count": null,
   "id": "64522765",
   "metadata": {},
   "outputs": [],
   "source": []
  }
 ],
 "metadata": {
  "kernelspec": {
   "display_name": "Python 3 (ipykernel)",
   "language": "python",
   "name": "python3"
  },
  "language_info": {
   "codemirror_mode": {
    "name": "ipython",
    "version": 3
   },
   "file_extension": ".py",
   "mimetype": "text/x-python",
   "name": "python",
   "nbconvert_exporter": "python",
   "pygments_lexer": "ipython3",
   "version": "3.9.12"
  }
 },
 "nbformat": 4,
 "nbformat_minor": 5
}
